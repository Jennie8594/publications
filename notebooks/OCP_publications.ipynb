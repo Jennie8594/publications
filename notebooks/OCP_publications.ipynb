{
 "cells": [
  {
   "cell_type": "code",
   "execution_count": null,
   "id": "17c50aa4-168e-4a9e-8cbb-9c7f324e4f5d",
   "metadata": {},
   "outputs": [],
   "source": [
    "fullname = 'Yochanan Kushnir'\n",
    "lastname = 'Kushnir'\n",
    "! wget https://ocp.ldeo.columbia.edu/ocp/publications/Kushnir.htm"
   ]
  },
  {
   "cell_type": "code",
   "execution_count": null,
   "id": "789e359d-5e0a-4ef2-b923-0a78e07c8e70",
   "metadata": {},
   "outputs": [],
   "source": [
    "num_pubs = 114   # Find this from original listing (number of publications)\n",
    "\n",
    "num_skip_lines = 152\n",
    "\n",
    "top_text = f'''<!DOCTYPE html PUBLIC \"-//W3C//DTD XHTML 1.0 Transitional//EN\"\n",
    "   \"http://www.w3.org/TR/xhtml1/DTD/xhtml1-transitional.dtd\">\n",
    "<html xmlns=\"http://www.w3.org/1999/xhtml\" lang=\"en\" xml:lang=\"en\">\n",
    "\n",
    "<head>\n",
    "<title>OCP-CMDG Publications:  </title>\n",
    "<meta http-equiv=\"Content-Type\" content=\"text/html; charset=utf-8\" />\n",
    "\n",
    "</head>\n",
    "\n",
    "<body style=\"background-color: #ffffff;;\">\n",
    "\n",
    "<center>\n",
    "\n",
    "<div><h2>Publications:  {fullname}</h2> </div>\n",
    "\n",
    "<table style=\"width:95%\">\n",
    "<tr><td> </td></tr>'''\n",
    "\n",
    "bot_text = '''\n",
    "</table>\n",
    "\n",
    "<br/>\n",
    "<br/>\n",
    "<span >This <a href=\"https://github.com/ocp-cmdg/publications\">publications</a> site is maintained \n",
    "by <a href=\"https://github.com/ocp-cmdg\">ocp-cmdg</a>.</span>\n",
    "\n",
    "</center>\n",
    "\n",
    "</body>\n",
    "</html>\n",
    "'''"
   ]
  },
  {
   "cell_type": "code",
   "execution_count": null,
   "id": "67fe8e1d-4255-4e87-b029-7b9776f5ba8f",
   "metadata": {
    "tags": []
   },
   "outputs": [],
   "source": [
    "outF = open(\"new.htm\", \"w\")\n",
    "outF.write(top_text)\n",
    "\n",
    "lines = []\n",
    "with open(f'{lastname}.htm') as f:\n",
    "    lines = f.readlines()\n",
    "    \n",
    "for num in range(0,num_pubs): \n",
    "    start = num*6 + num_skip_lines\n",
    "    stop = start + 6\n",
    "    #print(lines[start+2:stop])\n",
    "    if num%2 == 0:\n",
    "        text = '\\n<tr valign=\"top\" bgcolor=\"#f4f4f4\">'\n",
    "    else:\n",
    "        text = '\\n<tr valign=\"top\">'\n",
    "    print(text)\n",
    "    outF.write(text+'\\n')\n",
    "    \n",
    "    splitby = lines[start+1].split('<font size=\"2\">')[-1]#.split('. ')[0]\n",
    "    number = splitby.split('. ')[0]\n",
    "    rest = lines[start+1].split('<font size=\"2\">'+number+'. ')[-1]\n",
    "    text = '<td align=\"left\"><font size=\"2\">' + str(num_pubs - num) + '. ' +  rest\n",
    "    print(text[:-1])\n",
    "    outF.write(text)\n",
    "    url_SI = lines[start+2].split('\"><font size=\"1\">LINK</font></a></td>')[0].split('\"><font size=\"1\"></font></a></td>')[0].split('<td align=\"center\" width=\"30\"><a href=\"')[-1]\n",
    "    url_PDF = lines[start+3].split('\"><font size=\"1\">PDF</font></a></td>')[0].split('\"><font size=\"1\"></font></a></td>')[0].split('<td align=\"center\" width=\"30\"><a href=\"')[-1]\n",
    "    #print(url_PDF,url_SI)\n",
    "    \n",
    "    if len(url_PDF)==0:\n",
    "        text = ('<td></td>')\n",
    "    else:\n",
    "        text = f'<td align=\"center\" width=\"30\"><a href=\"{url_PDF}\"><font size=\"1\">PDF</font></a></td>'\n",
    "    print(text)\n",
    "    outF.write(text+'\\n')\n",
    "    if len(url_SI)==0:\n",
    "        text = '<td></td>'\n",
    "    else:\n",
    "        text = f'<td align=\"center\" width=\"30\"><a href=\"{url_SI}\"><font size=\"1\">SI</font></a></td>'\n",
    "    print(text)\n",
    "    outF.write(text+'\\n')\n",
    "    \n",
    "    print('</tr>')\n",
    "    outF.write('</tr>\\n')\n",
    "\n",
    "outF.write(bot_text)\n",
    "outF.close()"
   ]
  },
  {
   "cell_type": "code",
   "execution_count": null,
   "id": "44c2d002-bfc7-4c3c-9a1e-924fac864c1f",
   "metadata": {},
   "outputs": [],
   "source": [
    "# Now copy new.htm to your laptop, to upload to github. Don't forget to add name to pubs-ind.md\n",
    "# The next step is to log onto sonny and add forwarding to the corresponding file in /home/local/html/res/div/ocp/publications"
   ]
  }
 ],
 "metadata": {
  "kernelspec": {
   "display_name": "pangeo-Oct2021",
   "language": "python",
   "name": "pangeo-oct2021"
  },
  "language_info": {
   "codemirror_mode": {
    "name": "ipython",
    "version": 3
   },
   "file_extension": ".py",
   "mimetype": "text/x-python",
   "name": "python",
   "nbconvert_exporter": "python",
   "pygments_lexer": "ipython3",
   "version": "3.7.10"
  },
  "widgets": {
   "application/vnd.jupyter.widget-state+json": {
    "state": {},
    "version_major": 2,
    "version_minor": 0
   }
  }
 },
 "nbformat": 4,
 "nbformat_minor": 5
}
